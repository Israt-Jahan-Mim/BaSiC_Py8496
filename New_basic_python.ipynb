{
 "cells": [
  {
   "cell_type": "code",
   "execution_count": 1,
   "id": "ef100988-ede3-47ff-9fd5-6383af6469a8",
   "metadata": {},
   "outputs": [
    {
     "name": "stdout",
     "output_type": "stream",
     "text": [
      "Israt Jahan Mim\n"
     ]
    }
   ],
   "source": [
    "print(\"Israt Jahan Mim\")"
   ]
  },
  {
   "cell_type": "markdown",
   "id": "8cd28753-382d-483c-b68c-53bc5424e151",
   "metadata": {},
   "source": [
    "# Variables and Data Structures\n",
    "\n",
    "1.List  \n",
    "2.Dictionary  \n",
    "3.Tuple  \n",
    "4. Set  "
   ]
  },
  {
   "cell_type": "code",
   "execution_count": 2,
   "id": "16aa890d-abd9-4dd0-b064-b8f470c518c9",
   "metadata": {},
   "outputs": [
    {
     "name": "stdout",
     "output_type": "stream",
     "text": [
      "[12, 'qaxsw', 1123]\n"
     ]
    }
   ],
   "source": [
    "num = []\n",
    "\n",
    "num.append(12)\n",
    "num.append(\"qaxsw\")\n",
    "num.append(1123)\n",
    "\n",
    "print(num)"
   ]
  },
  {
   "cell_type": "markdown",
   "id": "c82e2e1a-dda2-452f-ba11-1ce3460763f4",
   "metadata": {},
   "source": [
    "# Input and Output (get int input from user)"
   ]
  },
  {
   "cell_type": "code",
   "execution_count": 4,
   "id": "ca5d1c98-8e55-48bf-9abb-a08c42ebbabf",
   "metadata": {},
   "outputs": [
    {
     "name": "stdin",
     "output_type": "stream",
     "text": [
      "Enter Number 1:  22\n",
      "Enter Number 2:  11\n"
     ]
    },
    {
     "name": "stdout",
     "output_type": "stream",
     "text": [
      "The value is :  242\n"
     ]
    }
   ],
   "source": [
    "number1 = int(input(\"Enter Number 1: \"))\n",
    "number2 = int(input(\"Enter Number 2: \"))\n",
    "\n",
    "Mul = (number1 * number2)\n",
    "print (\"The value is : \",Mul)\n",
    "\n"
   ]
  },
  {
   "cell_type": "markdown",
   "id": "0a602d07-289c-4a9e-b46e-ed09c5262156",
   "metadata": {},
   "source": [
    "# Input and Output (get String input from user)\n",
    "\n",
    "**<span style=\"color:red\">How to add space between two strings from user input</span>**  \n",
    "**1.** Concatenation: string1 + \" \" + string2 adds a space between the two strings.  \n",
    "**2.** f-strings: f\"{string1} {string2}\" uses an easy format to combine them with space.  \n",
    "**3.** format(): \"{} {}\".format(string1, string2) does the same with a format method.  \n",
    "\n",
    "Here I am Using only **f-strings** formate"
   ]
  },
  {
   "cell_type": "code",
   "execution_count": 8,
   "id": "3296a418-687b-4752-9d44-c5d483e2a375",
   "metadata": {},
   "outputs": [
    {
     "name": "stdin",
     "output_type": "stream",
     "text": [
      "Enter Your First Name:  Israt Jahan\n",
      "Enter Your Last Name:  Mim\n"
     ]
    },
    {
     "name": "stdout",
     "output_type": "stream",
     "text": [
      "The full name is :  Israt Jahan  Mim\n"
     ]
    }
   ],
   "source": [
    "Name1 = input(\"Enter Your First Name: \")\n",
    "Name2 = input(\"Enter Your Last Name: \")\n",
    "\n",
    "Num = f\"{Name1}  {Name2}\"\n",
    "print (\"The full name is : \",Num)"
   ]
  },
  {
   "cell_type": "markdown",
   "id": "61143044-dc6e-4c22-82dd-47301550fd1d",
   "metadata": {},
   "source": [
    " # Getting User Input as a float\n",
    " "
   ]
  },
  {
   "cell_type": "code",
   "execution_count": 12,
   "id": "4b7af042-2b50-4e0f-aff2-e623c523543e",
   "metadata": {},
   "outputs": [
    {
     "name": "stdin",
     "output_type": "stream",
     "text": [
      "Enter Num1: 33.6\n",
      "Enter Num2: 22.8\n"
     ]
    },
    {
     "name": "stdout",
     "output_type": "stream",
     "text": [
      "The Number is: 766.08\n"
     ]
    }
   ],
   "source": [
    "User_input1 = float(input(\"Enter Num1:\" ))\n",
    "User_input2 = float(input(\"Enter Num2:\" ))\n",
    "\n",
    "Mul = (User_input1 * User_input2)\n",
    "\n",
    "print (f\"The Number is: {Mul}\")"
   ]
  },
  {
   "cell_type": "markdown",
   "id": "d3a9d4f8-5d1d-499c-8d2f-31ddb6866ab2",
   "metadata": {},
   "source": [
    "# Conditional Statement in Python"
   ]
  },
  {
   "cell_type": "code",
   "execution_count": 18,
   "id": "74c1616e-562f-4e41-bcdb-a305eab28218",
   "metadata": {},
   "outputs": [
    {
     "name": "stdout",
     "output_type": "stream",
     "text": [
      "This is Okayy\n"
     ]
    }
   ],
   "source": [
    "Number1 = 102\n",
    "\n",
    "if(Number1>99):\n",
    "    print(\"This is Okayy\")\n",
    "    \n",
    "elif(Number1>133):\n",
    "    print(\"This is not okayy\")\n",
    "else:\n",
    "    print(\"Error\")"
   ]
  },
  {
   "cell_type": "code",
   "execution_count": 23,
   "id": "66d3586a-93d7-4d8c-8d6c-f2de93a2078f",
   "metadata": {},
   "outputs": [
    {
     "name": "stdin",
     "output_type": "stream",
     "text": [
      "Enter Your Age:  17\n"
     ]
    },
    {
     "name": "stdout",
     "output_type": "stream",
     "text": [
      "You not eligible for marriage\n"
     ]
    }
   ],
   "source": [
    "Age1 = int(input(\"Enter Your Age: \")) \n",
    "\n",
    "if(Age1>=18):\n",
    "           print(\"You eligible for marriage\")\n",
    "elif(Age1<18):\n",
    "           print(\"You not eligible for marriage\")\n",
    "else:\n",
    "           print(\"You are Child\")"
   ]
  },
  {
   "cell_type": "markdown",
   "id": "20331563-136e-4905-adc2-73d381825daf",
   "metadata": {},
   "source": [
    "# Problem: Grade Calculator\n",
    "Write a program that asks the user to input their exam score (a number between 0 and 100), and then prints their grade based on the following criteria:\n",
    "\n",
    "__If the score is 90 or above, print \"A\".__  \n",
    "__If the score is between 80 and 89 (inclusive), print \"B\".__  \n",
    "__If the score is between 70 and 79 (inclusive), print \"C\".__  \n",
    "__If the score is between 60 and 69 (inclusive), print \"D\".__  \n",
    "__If the score is below 60, print \"F\".__  \n",
    "\n",
    "# Example Output:\n",
    "\n",
    "Enter your exam score: 85  \n",
    "Your grade is: B"
   ]
  },
  {
   "cell_type": "code",
   "execution_count": 34,
   "id": "72519328-504d-4173-b08f-ae9533c86765",
   "metadata": {},
   "outputs": [
    {
     "name": "stdin",
     "output_type": "stream",
     "text": [
      "Enter your exam score: 66\n"
     ]
    },
    {
     "name": "stdout",
     "output_type": "stream",
     "text": [
      "Your grade is: D\n"
     ]
    }
   ],
   "source": [
    "Score = int(input(\"Enter your exam score:\"))\n",
    "\n",
    "if(90 <= Score <= 100):\n",
    "    print(\"Your grade is: A\")\n",
    "\n",
    "elif(80 <= Score <= 89):\n",
    "    print(\"Your grade is: B\")\n",
    "\n",
    "elif(70 <= Score <= 79):\n",
    "    print(\"Your grade is: C\")\n",
    "\n",
    "elif(60 <= Score <= 69):\n",
    "    print(\"Your grade is: D\")\n",
    "\n",
    "elif(0 <= Score <= 59):\n",
    "        print(\"F\")\n",
    "        print(\"You are Fail\")\n",
    "else:\n",
    "    print(\"Invalid operation\")\n"
   ]
  },
  {
   "cell_type": "code",
   "execution_count": 35,
   "id": "21de3559-eaf8-4f0f-8ddc-8090b3baf74a",
   "metadata": {},
   "outputs": [
    {
     "name": "stdin",
     "output_type": "stream",
     "text": [
      "Enter your exam score:  80\n"
     ]
    },
    {
     "name": "stdout",
     "output_type": "stream",
     "text": [
      "Your grade is: B\n"
     ]
    }
   ],
   "source": [
    "Score = int(input(\"Enter your exam score: \"))\n",
    "\n",
    "# Check if the input score is valid (0 to 100)\n",
    "if Score < 0 or Score > 100:\n",
    "    print(\"Invalid score entered. Please enter a number between 0 and 100.\")\n",
    "elif 90 <= Score <= 100:\n",
    "    print(\"Your grade is: A\")\n",
    "elif 80 <= Score <= 89:\n",
    "    print(\"Your grade is: B\")\n",
    "elif 70 <= Score <= 79:\n",
    "    print(\"Your grade is: C\")\n",
    "elif 60 <= Score <= 69:\n",
    "    print(\"Your grade is: D\")\n",
    "elif 0 <= Score <= 59:\n",
    "    print(\"Your grade is: F\")\n",
    "    print(\"You are Fail\")\n"
   ]
  },
  {
   "cell_type": "markdown",
   "id": "1448076d-4c49-473a-a7bb-2612587ae030",
   "metadata": {},
   "source": [
    "# Problem Statement:\n",
    "**Create a simple calculator program that:**\n",
    "\n",
    "Prompts the user to input two numbers.  \n",
    "Asks the user to select an operation (+, -, *, or /).  \n",
    "Performs the selected arithmetic operation on the two numbers and prints the result.  \n",
    "Handles edge cases such as:  \n",
    "Division by zero (should output a specific error message).  \n",
    "Invalid input (e.g., non-numeric values for numbers or invalid operation symbols).  \n",
    "\n",
    "Requirements:  \n",
    "Input:  \n",
    "Two numeric values (floats).  \n",
    "A string representing the arithmetic operation (+, -, *, /).  \n",
    "\n",
    "Output:  \n",
    "The result of the operation.  \n",
    "A message for division by zero if the user attempts to divide by zero.  \n",
    "An error message if the user enters invalid input (either for the numbers or the operation).  \n",
    "\n",
    "Edge Cases:  \n",
    "Handle invalid operations.  \n",
    "Handle invalid numeric inputs gracefully.  \n"
   ]
  },
  {
   "cell_type": "code",
   "execution_count": 3,
   "id": "cc47148f-5af4-4d1a-a53d-8fe05714b7c0",
   "metadata": {},
   "outputs": [
    {
     "name": "stdin",
     "output_type": "stream",
     "text": [
      "Enter First Number:  10\n",
      "Enter Second Number:  2\n",
      "Enter the Operation:  (+, -, *, /): /\n"
     ]
    },
    {
     "name": "stdout",
     "output_type": "stream",
     "text": [
      "The result is: 5.0\n"
     ]
    }
   ],
   "source": [
    "num1 = float (input('Enter First Number: '))\n",
    "num2 = float (input('Enter Second Number: '))\n",
    "Operation = input(\"Enter the Operation:  (+, -, *, /):\")\n",
    "\n",
    "if Operation == \"+\" :\n",
    "    print(f\"The result is: \",num1 + num2)\n",
    "\n",
    "elif Operation == \"-\" :\n",
    "    print(f\"The result is: \",num1 - num2)\n",
    "\n",
    "elif Operation == \"*\" :\n",
    "    print(f\"The result is: \",num1 * num2)\n",
    "\n",
    "elif Operation == \"/\" :\n",
    "    if num2 != 0:\n",
    "        print(f\"The result is: {num1 / num2}\")\n",
    "    else:\n",
    "        print(\"Division by zero is not allowed.\")\n",
    "\n",
    "else:\n",
    "    print(\"Invalid operation\")\n"
   ]
  },
  {
   "cell_type": "code",
   "execution_count": null,
   "id": "7402abee-4f31-4450-9911-ea73cd3c1995",
   "metadata": {},
   "outputs": [],
   "source": []
  }
 ],
 "metadata": {
  "kernelspec": {
   "display_name": "Python 3 (ipykernel)",
   "language": "python",
   "name": "python3"
  },
  "language_info": {
   "codemirror_mode": {
    "name": "ipython",
    "version": 3
   },
   "file_extension": ".py",
   "mimetype": "text/x-python",
   "name": "python",
   "nbconvert_exporter": "python",
   "pygments_lexer": "ipython3",
   "version": "3.13.0"
  }
 },
 "nbformat": 4,
 "nbformat_minor": 5
}
