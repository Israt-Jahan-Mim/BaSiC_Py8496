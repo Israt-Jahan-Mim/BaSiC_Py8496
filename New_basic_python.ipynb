{
 "cells": [
  {
   "cell_type": "code",
   "execution_count": 1,
   "id": "ef100988-ede3-47ff-9fd5-6383af6469a8",
   "metadata": {},
   "outputs": [
    {
     "name": "stdout",
     "output_type": "stream",
     "text": [
      "Israt Jahan Mim\n"
     ]
    }
   ],
   "source": [
    "print(\"Israt Jahan Mim\")"
   ]
  },
  {
   "cell_type": "code",
   "execution_count": 2,
   "id": "16aa890d-abd9-4dd0-b064-b8f470c518c9",
   "metadata": {},
   "outputs": [
    {
     "name": "stdout",
     "output_type": "stream",
     "text": [
      "[12, 'qaxsw', 1123]\n"
     ]
    }
   ],
   "source": [
    "num = []\n",
    "\n",
    "num.append(12)\n",
    "num.append(\"qaxsw\")\n",
    "num.append(1123)\n",
    "\n",
    "print(num)"
   ]
  },
  {
   "cell_type": "code",
   "execution_count": null,
   "id": "8873906b-53a7-458f-8d95-88a3aeaa629b",
   "metadata": {},
   "outputs": [],
   "source": []
  }
 ],
 "metadata": {
  "kernelspec": {
   "display_name": "Python 3 (ipykernel)",
   "language": "python",
   "name": "python3"
  },
  "language_info": {
   "codemirror_mode": {
    "name": "ipython",
    "version": 3
   },
   "file_extension": ".py",
   "mimetype": "text/x-python",
   "name": "python",
   "nbconvert_exporter": "python",
   "pygments_lexer": "ipython3",
   "version": "3.13.0"
  }
 },
 "nbformat": 4,
 "nbformat_minor": 5
}
