{
 "cells": [
  {
   "cell_type": "markdown",
   "id": "8b62f8ce-10ee-40c5-babb-016807838174",
   "metadata": {},
   "source": [
    "# Keywords in Python  \n",
    "Keywords in Python are reserved words that can not be used as a variable name, function name, or any other identifier  \n",
    "\n",
    "**Keywords**  \n",
    "\n",
    "<span style=\"color:red\">__and__,\t__False__,\t__nonlocal__  \n",
    "__as__,\t__finally__,\t__not__  \n",
    "__assert__,\t__for__,\t__or__  \n",
    "__break__,\t__from__,\t__pass__  \n",
    "__class__,\t__global__,\t__raise__  \n",
    "__continue__,\t__if__,\t__return__  \n",
    "__def__,\t__import__,\t__True__  \n",
    "__del__,\t__is__,\t__try__  \n",
    "__elif__,\t__in__,\t__while__  \n",
    "__else__,\t__lambda__,\t__with__  \n",
    "__except__,\t__None__,\t__yield__  "
   ]
  },
  {
   "cell_type": "code",
   "execution_count": null,
   "id": "8ab61563-58dc-4eab-8017-0edf35e627ee",
   "metadata": {},
   "outputs": [],
   "source": []
  },
  {
   "cell_type": "code",
   "execution_count": null,
   "id": "4a352e54-ae6d-49de-b364-66993df05b46",
   "metadata": {},
   "outputs": [],
   "source": []
  }
 ],
 "metadata": {
  "kernelspec": {
   "display_name": "Python 3 (ipykernel)",
   "language": "python",
   "name": "python3"
  },
  "language_info": {
   "codemirror_mode": {
    "name": "ipython",
    "version": 3
   },
   "file_extension": ".py",
   "mimetype": "text/x-python",
   "name": "python",
   "nbconvert_exporter": "python",
   "pygments_lexer": "ipython3",
   "version": "3.13.0"
  }
 },
 "nbformat": 4,
 "nbformat_minor": 5
}
