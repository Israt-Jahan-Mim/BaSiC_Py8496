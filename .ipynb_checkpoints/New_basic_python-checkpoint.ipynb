{
 "cells": [
  {
   "cell_type": "code",
   "execution_count": 1,
   "id": "ef100988-ede3-47ff-9fd5-6383af6469a8",
   "metadata": {},
   "outputs": [
    {
     "name": "stdout",
     "output_type": "stream",
     "text": [
      "Israt Jahan Mim\n"
     ]
    }
   ],
   "source": [
    "print(\"Israt Jahan Mim\")"
   ]
  },
  {
   "cell_type": "markdown",
   "id": "8cd28753-382d-483c-b68c-53bc5424e151",
   "metadata": {},
   "source": [
    "**Variables and Data Structures:**\n",
    "\n",
    "1.List  \n",
    "2.Dictionary  \n",
    "3.Tuple  \n",
    "4. Set  "
   ]
  },
  {
   "cell_type": "code",
   "execution_count": 2,
   "id": "16aa890d-abd9-4dd0-b064-b8f470c518c9",
   "metadata": {},
   "outputs": [
    {
     "name": "stdout",
     "output_type": "stream",
     "text": [
      "[12, 'qaxsw', 1123]\n"
     ]
    }
   ],
   "source": [
    "num = []\n",
    "\n",
    "num.append(12)\n",
    "num.append(\"qaxsw\")\n",
    "num.append(1123)\n",
    "\n",
    "print(num)"
   ]
  },
  {
   "cell_type": "markdown",
   "id": "c82e2e1a-dda2-452f-ba11-1ce3460763f4",
   "metadata": {},
   "source": [
    "**Input and Output (get int input from user)**"
   ]
  },
  {
   "cell_type": "code",
   "execution_count": 4,
   "id": "ca5d1c98-8e55-48bf-9abb-a08c42ebbabf",
   "metadata": {},
   "outputs": [
    {
     "name": "stdin",
     "output_type": "stream",
     "text": [
      "Enter Number 1:  22\n",
      "Enter Number 2:  11\n"
     ]
    },
    {
     "name": "stdout",
     "output_type": "stream",
     "text": [
      "The value is :  242\n"
     ]
    }
   ],
   "source": [
    "number1 = int(input(\"Enter Number 1: \"))\n",
    "number2 = int(input(\"Enter Number 2: \"))\n",
    "\n",
    "Mul = (number1 * number2)\n",
    "print (\"The value is : \",Mul)\n",
    "\n"
   ]
  },
  {
   "cell_type": "markdown",
   "id": "0a602d07-289c-4a9e-b46e-ed09c5262156",
   "metadata": {},
   "source": [
    "# Input and Output (get String input from user)\n",
    "\n",
    "**<span style=\"color:red\">How to add space between two strings from user input</span>**  \n",
    "**1.** Concatenation: string1 + \" \" + string2 adds a space between the two strings.  \n",
    "**2.** f-strings: f\"{string1} {string2}\" uses an easy format to combine them with space.  \n",
    "**3.** format(): \"{} {}\".format(string1, string2) does the same with a format method.  \n",
    "\n",
    "Here I am Using only **f-strings** formate"
   ]
  },
  {
   "cell_type": "code",
   "execution_count": 8,
   "id": "3296a418-687b-4752-9d44-c5d483e2a375",
   "metadata": {},
   "outputs": [
    {
     "name": "stdin",
     "output_type": "stream",
     "text": [
      "Enter Your First Name:  Israt Jahan\n",
      "Enter Your Last Name:  Mim\n"
     ]
    },
    {
     "name": "stdout",
     "output_type": "stream",
     "text": [
      "The full name is :  Israt Jahan  Mim\n"
     ]
    }
   ],
   "source": [
    "Name1 = input(\"Enter Your First Name: \")\n",
    "Name2 = input(\"Enter Your Last Name: \")\n",
    "\n",
    "Num = f\"{Name1}  {Name2}\"\n",
    "print (\"The full name is : \",Num)"
   ]
  },
  {
   "cell_type": "markdown",
   "id": "61143044-dc6e-4c22-82dd-47301550fd1d",
   "metadata": {},
   "source": [
    " # Getting User Input as a float\n",
    " "
   ]
  },
  {
   "cell_type": "code",
   "execution_count": 12,
   "id": "4b7af042-2b50-4e0f-aff2-e623c523543e",
   "metadata": {},
   "outputs": [
    {
     "name": "stdin",
     "output_type": "stream",
     "text": [
      "Enter Num1: 33.6\n",
      "Enter Num2: 22.8\n"
     ]
    },
    {
     "name": "stdout",
     "output_type": "stream",
     "text": [
      "The Number is: 766.08\n"
     ]
    }
   ],
   "source": [
    "User_input1 = float(input(\"Enter Num1:\" ))\n",
    "User_input2 = float(input(\"Enter Num2:\" ))\n",
    "\n",
    "Mul = (User_input1 * User_input2)\n",
    "\n",
    "print (f\"The Number is: {Mul}\")"
   ]
  },
  {
   "cell_type": "code",
   "execution_count": null,
   "id": "00a8ea53-f900-4840-af40-aed07e3f6a6a",
   "metadata": {},
   "outputs": [],
   "source": []
  }
 ],
 "metadata": {
  "kernelspec": {
   "display_name": "Python 3 (ipykernel)",
   "language": "python",
   "name": "python3"
  },
  "language_info": {
   "codemirror_mode": {
    "name": "ipython",
    "version": 3
   },
   "file_extension": ".py",
   "mimetype": "text/x-python",
   "name": "python",
   "nbconvert_exporter": "python",
   "pygments_lexer": "ipython3",
   "version": "3.13.0"
  }
 },
 "nbformat": 4,
 "nbformat_minor": 5
}
