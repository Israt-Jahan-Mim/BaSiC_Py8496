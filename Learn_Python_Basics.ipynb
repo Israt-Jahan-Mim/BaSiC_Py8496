{
 "cells": [
  {
   "cell_type": "markdown",
   "id": "8b62f8ce-10ee-40c5-babb-016807838174",
   "metadata": {},
   "source": [
    "# Keywords in Python  \n",
    "Keywords in Python are reserved words that can not be used as a variable name, function name, or any other identifier  \n",
    "\n",
    "**Keywords**  \n",
    "\n",
    "<span style=\"color:red\">__and__,\t__False__,\t__nonlocal__  \n",
    "__as__,\t__finally__,\t__not__  \n",
    "__assert__,\t__for__,\t__or__  \n",
    "__break__,\t__from__,\t__pass__  \n",
    "__class__,\t__global__,\t__raise__  \n",
    "__continue__,\t__if__,\t__return__  \n",
    "__def__,\t__import__,\t__True__  \n",
    "__del__,\t__is__,\t__try__  \n",
    "__elif__,\t__in__,\t__while__  \n",
    "__else__,\t__lambda__,\t__with__  \n",
    "__except__,\t__None__,\t__yield__  "
   ]
  },
  {
   "cell_type": "markdown",
   "id": "a54cc519-3400-4f8d-ae23-4f4e0158d1f9",
   "metadata": {},
   "source": [
    "# Python Data Types  \n",
    "\n",
    "x = \"Hello World\" # string  \n",
    "x = 50  # integer  \n",
    "x = 60.5  # float  \n",
    "x = 3j  # complex  \n",
    "x = [\"geeks\", \"for\", \"geeks\"]  # list   \n",
    "x = (\"geeks\", \"for\", \"geeks\")  # tuple  \n",
    "x = {\"name\": \"Suraj\", \"age\": 24} # dict  \n",
    "x = {\"geeks\", \"for\", \"geeks\"} # set  \n",
    "x = True  # bool  \n",
    "x = b\"Geeks\" # binary  "
   ]
  },
  {
   "cell_type": "markdown",
   "id": "78deb050-a09f-4de1-8a18-09716468c041",
   "metadata": {},
   "source": [
    "__a ** b means 9 raised to the power of 4 (i.e., 9 × 9 × 9 × 9)__"
   ]
  },
  {
   "cell_type": "code",
   "execution_count": 1,
   "id": "4a352e54-ae6d-49de-b364-66993df05b46",
   "metadata": {},
   "outputs": [
    {
     "name": "stdout",
     "output_type": "stream",
     "text": [
      "6561\n"
     ]
    }
   ],
   "source": [
    "a = 9\n",
    "b = 4\n",
    "p = a ** b \n",
    "print(p)"
   ]
  },
  {
   "cell_type": "code",
   "execution_count": 1,
   "id": "0a7d421a-34cd-4133-8a58-a425d928b96a",
   "metadata": {},
   "outputs": [
    {
     "name": "stdout",
     "output_type": "stream",
     "text": [
      "59049\n"
     ]
    }
   ],
   "source": [
    "a = 9\n",
    "b = 5\n",
    "c = a ** b\n",
    "print(c)"
   ]
  },
  {
   "cell_type": "code",
   "execution_count": 80,
   "id": "20128e12-59d4-4ce3-bc26-4ee064057082",
   "metadata": {},
   "outputs": [
    {
     "name": "stdout",
     "output_type": "stream",
     "text": [
      "1:Deposit money\n",
      "2:Withdraw money\n",
      "3:Check balance\n",
      "4:Exit\n"
     ]
    },
    {
     "name": "stdin",
     "output_type": "stream",
     "text": [
      "Please choose an option (1-4):  1\n",
      "Enter The deposit amount:  6000\n"
     ]
    },
    {
     "name": "stdout",
     "output_type": "stream",
     "text": [
      "You are successfully Deposit Total $6000.0 \n",
      "1:Deposit money\n",
      "2:Withdraw money\n",
      "3:Check balance\n",
      "4:Exit\n"
     ]
    },
    {
     "name": "stdin",
     "output_type": "stream",
     "text": [
      "Please choose an option (1-4):  2\n",
      "Enter The withdraw amount:  3000\n"
     ]
    },
    {
     "name": "stdout",
     "output_type": "stream",
     "text": [
      "You are successfully withdrawn $3000.0\n",
      "1:Deposit money\n",
      "2:Withdraw money\n",
      "3:Check balance\n",
      "4:Exit\n"
     ]
    },
    {
     "name": "stdin",
     "output_type": "stream",
     "text": [
      "Please choose an option (1-4):  3\n"
     ]
    },
    {
     "name": "stdout",
     "output_type": "stream",
     "text": [
      "Your Balance is $3000.0\n",
      "1:Deposit money\n",
      "2:Withdraw money\n",
      "3:Check balance\n",
      "4:Exit\n"
     ]
    },
    {
     "name": "stdin",
     "output_type": "stream",
     "text": [
      "Please choose an option (1-4):  4\n"
     ]
    },
    {
     "name": "stdout",
     "output_type": "stream",
     "text": [
      "Thank you for using the bank system. Goodbye!\n"
     ]
    }
   ],
   "source": [
    "total_balance = 0\n",
    "def bank_account_option():\n",
    "    print(\"1:Deposit money\")\n",
    "    print(\"2:Withdraw money\")\n",
    "    print(\"3:Check balance\")\n",
    "    print(\"4:Exit\")\n",
    "while True:\n",
    "    bank_account_option()\n",
    "    try:# Get user input\n",
    "        option = int(input(\"Please choose an option (1-4): \"))\n",
    "        if option == 1: # Deposit money\n",
    "            deposit_amount = float(input(\"Enter The deposit amount: \"))\n",
    "            if deposit_amount > 0:\n",
    "                total_balance += deposit_amount\n",
    "                print(f\"You are successfully Deposit Total ${deposit_amount} \")\n",
    "            else:\n",
    "                print(\"Invalid Input!Please enter a positive value\")\n",
    "        elif option == 2: #Withdraw money\n",
    "            withdraw_money = float(input(\"Enter The withdraw amount: \"))\n",
    "            if withdraw_money > 0:\n",
    "                if withdraw_money <= total_balance:\n",
    "                    total_balance -= withdraw_money \n",
    "                    print(f\"You are successfully withdrawn ${withdraw_money}\") \n",
    "                else:\n",
    "                    print(\"Insufficient balance! Try a smaller amount\")\n",
    "            else:\n",
    "                print(\"Invalid withdrawal amount! Please enter a positive value\")\n",
    "\n",
    "        elif option == 3:#Check balance\n",
    "           print(f\"Your Balance is ${total_balance}\")\n",
    "\n",
    "        elif option == 4:#Exit\n",
    "            print(\"Thank you for using the bank system. Goodbye!\")\n",
    "            break\n",
    "        else:\n",
    "            print(\"Invalid option! Please choose between 1 and 4.\")\n",
    "\n",
    "    except ValueError:\n",
    "        print(\"Invalid input! Please enter a valid number.\")"
   ]
  },
  {
   "cell_type": "code",
   "execution_count": 28,
   "id": "3b292446-9d2c-43ab-a16e-2c11f1f7bb5d",
   "metadata": {},
   "outputs": [
    {
     "name": "stdout",
     "output_type": "stream",
     "text": [
      "===================\n",
      "Welcome to the ATM!\n",
      "1: Check Balance\n",
      "2: Deposit Money\n",
      "3: Withdraw Money\n",
      "4: Exit\n"
     ]
    },
    {
     "name": "stdin",
     "output_type": "stream",
     "text": [
      "Enter your choice (1-4):  1\n"
     ]
    },
    {
     "name": "stdout",
     "output_type": "stream",
     "text": [
      "Your current balance is: 0\n",
      "===================\n",
      "Welcome to the ATM!\n",
      "1: Check Balance\n",
      "2: Deposit Money\n",
      "3: Withdraw Money\n",
      "4: Exit\n"
     ]
    },
    {
     "name": "stdin",
     "output_type": "stream",
     "text": [
      "Enter your choice (1-4):  2\n",
      "Enter the deposit amount:  8000\n"
     ]
    },
    {
     "name": "stdout",
     "output_type": "stream",
     "text": [
      "Your new balance is: 8000.0\n",
      "===================\n",
      "Welcome to the ATM!\n",
      "1: Check Balance\n",
      "2: Deposit Money\n",
      "3: Withdraw Money\n",
      "4: Exit\n"
     ]
    },
    {
     "name": "stdin",
     "output_type": "stream",
     "text": [
      "Enter your choice (1-4):  3\n",
      "Enter the withdrawal amount:  2000\n"
     ]
    },
    {
     "name": "stdout",
     "output_type": "stream",
     "text": [
      "Withdrawal successful! Your new balance is: 6000.0\n",
      "===================\n",
      "Welcome to the ATM!\n",
      "1: Check Balance\n",
      "2: Deposit Money\n",
      "3: Withdraw Money\n",
      "4: Exit\n"
     ]
    },
    {
     "name": "stdin",
     "output_type": "stream",
     "text": [
      "Enter your choice (1-4):  1\n"
     ]
    },
    {
     "name": "stdout",
     "output_type": "stream",
     "text": [
      "Your current balance is: 6000.0\n",
      "===================\n",
      "Welcome to the ATM!\n",
      "1: Check Balance\n",
      "2: Deposit Money\n",
      "3: Withdraw Money\n",
      "4: Exit\n"
     ]
    },
    {
     "name": "stdin",
     "output_type": "stream",
     "text": [
      "Enter your choice (1-4):  4\n"
     ]
    },
    {
     "name": "stdout",
     "output_type": "stream",
     "text": [
      "Successfully exited. Thank you for using the ATM!\n"
     ]
    }
   ],
   "source": [
    "balance = 0\n",
    "\n",
    "def option():\n",
    "    print(\"===================\")\n",
    "    print(\"Welcome to the ATM!\")\n",
    "    print(\"1: Check Balance\")\n",
    "    print(\"2: Deposit Money\")\n",
    "    print(\"3: Withdraw Money\")\n",
    "    print(\"4: Exit\")\n",
    "\n",
    "while True:\n",
    "    try:\n",
    "        option()  # Call the option function to display menu\n",
    "        user_choice = int(input(\"Enter your choice (1-4): \"))\n",
    "        \n",
    "        if user_choice == 1:\n",
    "            print(f\"Your current balance is: {balance}\")\n",
    "        \n",
    "        elif user_choice == 2:\n",
    "            deposit_money = float(input(\"Enter the deposit amount: \"))\n",
    "            if deposit_money > 0:\n",
    "                balance += deposit_money  # Add deposit to balance\n",
    "                print(f\"Your new balance is: {balance}\")\n",
    "            else:\n",
    "                print(\"Invalid deposit amount! Please enter a positive value.\")\n",
    "        \n",
    "        elif user_choice == 3:\n",
    "            withdraw_money = float(input(\"Enter the withdrawal amount: \"))\n",
    "            if withdraw_money > 0:\n",
    "                if withdraw_money <= balance:\n",
    "                    balance -= withdraw_money  # Subtract withdrawal from balance\n",
    "                    print(f\"Withdrawal successful! Your new balance is: {balance}\")\n",
    "                else:\n",
    "                    print(\"Insufficient balance! Please try again with a smaller amount.\")\n",
    "            else:\n",
    "                print(\"Invalid withdrawal amount! Please enter a positive value.\")\n",
    "        \n",
    "        elif user_choice == 4:\n",
    "            print(\"Successfully exited. Thank you for using the ATM!\")\n",
    "            break  # Exit the loop\n",
    "        \n",
    "        else:\n",
    "            print(\"Invalid choice! Please choose a valid option (1-4).\")\n",
    "    \n",
    "    except ValueError:\n",
    "        print(\"Invalid input! Please enter a valid number.\")"
   ]
  },
  {
   "cell_type": "markdown",
   "id": "e955293a-215d-433a-8c97-1c45e23f79b1",
   "metadata": {},
   "source": [
    "# Problem: ATM Withdrawal System with Limits  \n",
    "\n",
    "You are building an ATM system that allows users to withdraw money, but there are certain conditions for withdrawal. The user can withdraw money multiple times until one of the following happens:  \n",
    "- The user has exhausted all attempts (maximum 5 attempts).  \n",
    "- The user has withdrawn the maximum allowable withdrawal amount.  \n",
    "- The user chooses to exit early.  \n",
    "In each iteration, if the user tries to withdraw more than the available balance or if the withdrawal exceeds a daily limit, the system should skip to the next iteration (using continue). If the user tries to withdraw more money than the maximum allowed for that day (e.g., $5000), the program should stop and exit (using break).  \n",
    "\n",
    "**You need to :**  \n",
    "\n",
    "Use a while loop to allow the user multiple attempts.  \n",
    "Use a for loop to allow the user a set number of withdrawal attempts (maximum 5).  \n",
    "Use continue to skip invalid withdrawal attempts.  \n",
    "Use break to stop the process if the user reaches the daily withdrawal limit.  \n",
    "\n",
    "**Requirements :**  \n",
    "- Total balance is set to $10000.  \n",
    "- Each withdrawal cannot  exceed  $2000  per  attempt.  \n",
    "- The maximum total withdrawal in a day is $5000.  \n",
    "- Allow the user 5 attempts to withdraw money.  "
   ]
  },
  {
   "cell_type": "code",
   "execution_count": 1,
   "id": "944d04ae-a3bb-48de-ade0-1ff7e0c56d35",
   "metadata": {},
   "outputs": [
    {
     "name": "stdout",
     "output_type": "stream",
     "text": [
      "Welcome to ATM Booth\n",
      "You can withdraw up to $2000 per attempt. Daily withdrawal limit is $5000.\n"
     ]
    },
    {
     "name": "stdin",
     "output_type": "stream",
     "text": [
      "Enter the withdrawal amount:  7000\n"
     ]
    },
    {
     "name": "stdout",
     "output_type": "stream",
     "text": [
      "You can withdraw up to $2000 per attempt ! Please Try again\n"
     ]
    },
    {
     "name": "stdin",
     "output_type": "stream",
     "text": [
      "Enter the withdrawal amount:  2000\n"
     ]
    },
    {
     "name": "stdout",
     "output_type": "stream",
     "text": [
      "You have successfully withdrawn $2000.\n",
      "Remaining balance: $148000\n",
      "Total withdrawn today: $2000\n"
     ]
    },
    {
     "name": "stdin",
     "output_type": "stream",
     "text": [
      "Enter the withdrawal amount:  2000\n"
     ]
    },
    {
     "name": "stdout",
     "output_type": "stream",
     "text": [
      "You have successfully withdrawn $2000.\n",
      "Remaining balance: $146000\n",
      "Total withdrawn today: $4000\n"
     ]
    },
    {
     "name": "stdin",
     "output_type": "stream",
     "text": [
      "Enter the withdrawal amount:  5000\n"
     ]
    },
    {
     "name": "stdout",
     "output_type": "stream",
     "text": [
      "You can withdraw up to $2000 per attempt ! Please Try again\n"
     ]
    },
    {
     "name": "stdin",
     "output_type": "stream",
     "text": [
      "Enter the withdrawal amount:  1000\n"
     ]
    },
    {
     "name": "stdout",
     "output_type": "stream",
     "text": [
      "You have successfully withdrawn $1000.\n",
      "Remaining balance: $145000\n",
      "Total withdrawn today: $5000\n",
      "Thank you for using the ATM. Goodbye!\n"
     ]
    }
   ],
   "source": [
    "def atm_withdrawal():\n",
    "    total_balance = 150000\n",
    "    daily_limit = 5000\n",
    "    max_withdrawal_per_attempt = 2000\n",
    "    total_withdrawn = 0\n",
    "    attempts = 0\n",
    "\n",
    "    print(\"Welcome to ATM Booth\")\n",
    "    print(\"You can withdraw up to $2000 per attempt. Daily withdrawal limit is $5000.\")\n",
    "\n",
    "    while attempts < 5 :\n",
    "        try:\n",
    "            withdrawal_amount = int(input(\"Enter the withdrawal amount: \"))\n",
    "            attempts += 1\n",
    "\n",
    "            if withdrawal_amount > total_balance :\n",
    "                print(f\"You amount is greater then total balance\")\n",
    "                continue\n",
    "                \n",
    "            if withdrawal_amount > max_withdrawal_per_attempt :\n",
    "                print(f\"You can withdraw up to ${max_withdrawal_per_attempt} per attempt ! Please Try again\")\n",
    "                continue\n",
    "\n",
    "            if total_withdrawn + withdrawal_amount > daily_limit :\n",
    "                print(f\"Your Daily Limit for withdrawal ${daily_limit}!!!!\")\n",
    "                break\n",
    "\n",
    "            total_balance -= withdrawal_amount\n",
    "            total_withdrawn += withdrawal_amount\n",
    "            print(f\"You have successfully withdrawn ${withdrawal_amount}.\")\n",
    "            print(f\"Remaining balance: ${total_balance}\")\n",
    "            print(f\"Total withdrawn today: ${total_withdrawn}\")\n",
    "        \n",
    "        except ValueError:\n",
    "            print(\"Invalid input! Please enter a valid number.\")\n",
    "\n",
    "    print(\"Thank you for using the ATM. Goodbye!\")\n",
    "\n",
    "\n",
    "atm_withdrawal()\n",
    "        \n",
    "        \n",
    "    "
   ]
  },
  {
   "cell_type": "markdown",
   "id": "49479936-47df-44d4-aac4-ac799416ba3a",
   "metadata": {},
   "source": [
    "# ‘in’ and ‘is’ Keyword"
   ]
  },
  {
   "cell_type": "code",
   "execution_count": 2,
   "id": "e31e4ad7-b53e-4f24-97ec-950d0d5c002b",
   "metadata": {},
   "outputs": [
    {
     "name": "stdout",
     "output_type": "stream",
     "text": [
      "True\n",
      "s is part of israt\n"
     ]
    }
   ],
   "source": [
    "# example 1\n",
    "print(3 in [1,2,3])\n",
    "\n",
    "# example 2\n",
    "if 's' in 'israt':\n",
    "    print(\"s is part of israt\")\n",
    "else:\n",
    "    print(\"s is not part of israt\")"
   ]
  },
  {
   "cell_type": "code",
   "execution_count": 4,
   "id": "a22b880e-aefa-4e36-8778-acd826247237",
   "metadata": {},
   "outputs": [
    {
     "name": "stdout",
     "output_type": "stream",
     "text": [
      "True\n",
      "True\n",
      "False\n"
     ]
    },
    {
     "name": "stderr",
     "output_type": "stream",
     "text": [
      "<>:2: SyntaxWarning: \"is\" with 'int' literal. Did you mean \"==\"?\n",
      "<>:2: SyntaxWarning: \"is\" with 'int' literal. Did you mean \"==\"?\n",
      "C:\\Users\\ISRAT JAHAN\\AppData\\Local\\Temp\\ipykernel_11596\\3689272054.py:2: SyntaxWarning: \"is\" with 'int' literal. Did you mean \"==\"?\n",
      "  print(2 is 2)\n"
     ]
    }
   ],
   "source": [
    "# example 1\n",
    "print(2 is 2)\n",
    "\n",
    "# example 2\n",
    "a = [1, 2, 3]\n",
    "b = a\n",
    "c = [1, 2, 3]\n",
    "\n",
    "# True: a and b refer to the same object\n",
    "print(a is b)  \n",
    "\n",
    "# False: a and c have same value but are different objects\n",
    "print(a is c)"
   ]
  },
  {
   "cell_type": "markdown",
   "id": "8ad4bac2-2d1a-4d1a-add9-c55423874328",
   "metadata": {},
   "source": [
    "# Structure Keywords : def, class, with, as, pass, lambda"
   ]
  },
  {
   "cell_type": "code",
   "execution_count": 5,
   "id": "89f60f0d-5ca4-4ca6-b811-a786d598224c",
   "metadata": {},
   "outputs": [
    {
     "name": "stdout",
     "output_type": "stream",
     "text": [
      "Israt\n"
     ]
    }
   ],
   "source": [
    "def fun():\n",
    "    print(\"Israt\")\n",
    "\n",
    "\n",
    "fun()"
   ]
  },
  {
   "cell_type": "markdown",
   "id": "732a8be9-8ea5-4c08-9355-87d8c46c23c0",
   "metadata": {},
   "source": [
    "# Classes and Objects"
   ]
  },
  {
   "cell_type": "code",
   "execution_count": 1,
   "id": "aab1c619-96cf-4d79-b9db-d822410fb3cc",
   "metadata": {},
   "outputs": [
    {
     "name": "stdout",
     "output_type": "stream",
     "text": [
      "TukTuki\n",
      "I'm a TukTuki\n",
      "I'm a Cat\n"
     ]
    }
   ],
   "source": [
    "class Cat:\n",
    "\n",
    "    attr1 = \"TukTuki\"\n",
    "    attr2 = \"Cat\"\n",
    "\n",
    "    def fun(self):\n",
    "        print(\"I'm a\", self.attr1)\n",
    "        print(\"I'm a\", self.attr2)\n",
    "\n",
    "Rodger = Cat()\n",
    "\n",
    "print(Rodger.attr1)\n",
    "Rodger.fun()"
   ]
  },
  {
   "cell_type": "markdown",
   "id": "33e9bcb2-0ead-409b-b1aa-88aee09e4203",
   "metadata": {},
   "source": [
    "**ক্লাস:**  \n",
    "Student ক্লাস তৈরি করা হয়েছে, যার মধ্যে __init__ কনস্ট্রাক্টর মেথড রয়েছে। এটি name, age, এবং marks প্যারামিটার নিয়ে আসবে এবং সেগুলোকে অ্যাট্রিবিউট হিসেবে সেট করবে।\n",
    "\n",
    "**মেথড:**  \n",
    "get_grade() মেথডটি ছাত্রের মার্কস দেখে গ্রেড নির্ধারণ করে এবং return দ্বারা সেটি ফেরত পাঠায়।  \n",
    "display_info() মেথডটি ছাত্রের সব তথ্য (নাম, বয়স, মার্কস, এবং গ্রেড) একসাথে প্রদর্শন করে এবং এটি একটি স্ট্রিং ফেরত দেয়।  \n",
    "\n",
    "**ইনস্ট্যান্স:**\n",
    "student1 এবং student2 হল Student ক্লাসের দুটি ইনস্ট্যান্স, যা আলাদা আলাদা তথ্য (নাম, বয়স, মার্কস) ধারণ করে।  \n",
    "\n",
    "**আর্গুমেন্ট:**  \n",
    "যখন আমরা Student ক্লাসের ইনস্ট্যান্স তৈরি করি (student1 এবং student2), তখন প্যারামিটার হিসেবে নাম, বয়স এবং মার্কস আর্গুমেন্ট হিসেবে পাঠানো হয়।  \n",
    "\n",
    "**return:**  \n",
    "get_grade() মেথডের মাধ্যমে গ্রেডের মান return করা হচ্ছে, এবং display_info() মেথডে এই মানটি ব্যবহার করা হচ্ছে।  "
   ]
  },
  {
   "cell_type": "code",
   "execution_count": 1,
   "id": "8b36820d-f9d3-40c9-8ed4-8b023ffa7f0e",
   "metadata": {},
   "outputs": [
    {
     "name": "stdout",
     "output_type": "stream",
     "text": [
      "Name: Rina\n",
      "Age: 20\n",
      "Marks: 85\n",
      "Grade: A\n",
      "\n",
      "\n",
      "Name: Rahim\n",
      "Age: 22\n",
      "Marks: 72\n",
      "Grade: B+\n"
     ]
    }
   ],
   "source": [
    "class Student:\n",
    "    # কনস্ট্রাক্টর (__init__) যেখানে নাম, বয়স, এবং মার্কস প্যারামিটার হিসেবে আসবে\n",
    "    def __init__(self, name, age, marks):\n",
    "        self.name = name  # অ্যাট্রিবিউট 'name'\n",
    "        self.age = age    # অ্যাট্রিবিউট 'age'\n",
    "        self.marks = marks  # অ্যাট্রিবিউট 'marks'\n",
    "\n",
    "    # মেথড: ছাত্রের গ্রেড বের করা\n",
    "    def get_grade(self):\n",
    "        if self.marks >= 90:\n",
    "            return \"A+\"  # 'A+' ফেরত দেয়া হচ্ছে\n",
    "        elif self.marks >= 80:\n",
    "            return \"A\"\n",
    "        elif self.marks >= 70:\n",
    "            return \"B+\"\n",
    "        elif self.marks >= 60:\n",
    "            return \"B\"\n",
    "        else:\n",
    "            return \"C\"\n",
    "\n",
    "    # মেথড: ছাত্রের তথ্য প্রদর্শন\n",
    "    def display_info(self):\n",
    "        grade = self.get_grade()  # get_grade মেথড কল করা\n",
    "        return f\"Name: {self.name}\\nAge: {self.age}\\nMarks: {self.marks}\\nGrade: {grade}\"\n",
    "\n",
    "# Student ক্লাসের ইনস্ট্যান্স তৈরি\n",
    "student1 = Student(\"Rina\", 20, 85)\n",
    "student2 = Student(\"Rahim\", 22, 72)\n",
    "\n",
    "# student1 এবং student2 এর মেথড কল করা\n",
    "print(student1.display_info())\n",
    "print(\"\\n\")\n",
    "print(student2.display_info())\n"
   ]
  },
  {
   "cell_type": "code",
   "execution_count": null,
   "id": "2141df0f-3b61-4083-82ad-d3d4da6ea248",
   "metadata": {},
   "outputs": [],
   "source": []
  }
 ],
 "metadata": {
  "kernelspec": {
   "display_name": "Python 3 (ipykernel)",
   "language": "python",
   "name": "python3"
  },
  "language_info": {
   "codemirror_mode": {
    "name": "ipython",
    "version": 3
   },
   "file_extension": ".py",
   "mimetype": "text/x-python",
   "name": "python",
   "nbconvert_exporter": "python",
   "pygments_lexer": "ipython3",
   "version": "3.13.0"
  }
 },
 "nbformat": 4,
 "nbformat_minor": 5
}
