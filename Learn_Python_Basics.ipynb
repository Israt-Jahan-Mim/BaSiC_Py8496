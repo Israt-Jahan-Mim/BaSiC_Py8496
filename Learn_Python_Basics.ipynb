{
 "cells": [
  {
   "cell_type": "markdown",
   "id": "8b62f8ce-10ee-40c5-babb-016807838174",
   "metadata": {},
   "source": [
    "# Keywords in Python  \n",
    "Keywords in Python are reserved words that can not be used as a variable name, function name, or any other identifier  \n",
    "\n",
    "**Keywords**  \n",
    "\n",
    "<span style=\"color:red\">__and__,\t__False__,\t__nonlocal__  \n",
    "__as__,\t__finally__,\t__not__  \n",
    "__assert__,\t__for__,\t__or__  \n",
    "__break__,\t__from__,\t__pass__  \n",
    "__class__,\t__global__,\t__raise__  \n",
    "__continue__,\t__if__,\t__return__  \n",
    "__def__,\t__import__,\t__True__  \n",
    "__del__,\t__is__,\t__try__  \n",
    "__elif__,\t__in__,\t__while__  \n",
    "__else__,\t__lambda__,\t__with__  \n",
    "__except__,\t__None__,\t__yield__  "
   ]
  },
  {
   "cell_type": "markdown",
   "id": "a54cc519-3400-4f8d-ae23-4f4e0158d1f9",
   "metadata": {},
   "source": [
    "# Python Data Types  \n",
    "\n",
    "x = \"Hello World\" # string  \n",
    "x = 50  # integer  \n",
    "x = 60.5  # float  \n",
    "x = 3j  # complex  \n",
    "x = [\"geeks\", \"for\", \"geeks\"]  # list   \n",
    "x = (\"geeks\", \"for\", \"geeks\")  # tuple  \n",
    "x = {\"name\": \"Suraj\", \"age\": 24} # dict  \n",
    "x = {\"geeks\", \"for\", \"geeks\"} # set  \n",
    "x = True  # bool  \n",
    "x = b\"Geeks\" # binary  "
   ]
  },
  {
   "cell_type": "markdown",
   "id": "78deb050-a09f-4de1-8a18-09716468c041",
   "metadata": {},
   "source": [
    "__a ** b means 9 raised to the power of 4 (i.e., 9 × 9 × 9 × 9)__"
   ]
  },
  {
   "cell_type": "code",
   "execution_count": 1,
   "id": "4a352e54-ae6d-49de-b364-66993df05b46",
   "metadata": {},
   "outputs": [
    {
     "name": "stdout",
     "output_type": "stream",
     "text": [
      "6561\n"
     ]
    }
   ],
   "source": [
    "a = 9\n",
    "b = 4\n",
    "p = a ** b \n",
    "print(p)"
   ]
  },
  {
   "cell_type": "code",
   "execution_count": 1,
   "id": "0a7d421a-34cd-4133-8a58-a425d928b96a",
   "metadata": {},
   "outputs": [
    {
     "name": "stdout",
     "output_type": "stream",
     "text": [
      "59049\n"
     ]
    }
   ],
   "source": [
    "a = 9\n",
    "b = 5\n",
    "c = a ** b\n",
    "print(c)"
   ]
  },
  {
   "cell_type": "code",
   "execution_count": 80,
   "id": "20128e12-59d4-4ce3-bc26-4ee064057082",
   "metadata": {},
   "outputs": [
    {
     "name": "stdout",
     "output_type": "stream",
     "text": [
      "1:Deposit money\n",
      "2:Withdraw money\n",
      "3:Check balance\n",
      "4:Exit\n"
     ]
    },
    {
     "name": "stdin",
     "output_type": "stream",
     "text": [
      "Please choose an option (1-4):  1\n",
      "Enter The deposit amount:  6000\n"
     ]
    },
    {
     "name": "stdout",
     "output_type": "stream",
     "text": [
      "You are successfully Deposit Total $6000.0 \n",
      "1:Deposit money\n",
      "2:Withdraw money\n",
      "3:Check balance\n",
      "4:Exit\n"
     ]
    },
    {
     "name": "stdin",
     "output_type": "stream",
     "text": [
      "Please choose an option (1-4):  2\n",
      "Enter The withdraw amount:  3000\n"
     ]
    },
    {
     "name": "stdout",
     "output_type": "stream",
     "text": [
      "You are successfully withdrawn $3000.0\n",
      "1:Deposit money\n",
      "2:Withdraw money\n",
      "3:Check balance\n",
      "4:Exit\n"
     ]
    },
    {
     "name": "stdin",
     "output_type": "stream",
     "text": [
      "Please choose an option (1-4):  3\n"
     ]
    },
    {
     "name": "stdout",
     "output_type": "stream",
     "text": [
      "Your Balance is $3000.0\n",
      "1:Deposit money\n",
      "2:Withdraw money\n",
      "3:Check balance\n",
      "4:Exit\n"
     ]
    },
    {
     "name": "stdin",
     "output_type": "stream",
     "text": [
      "Please choose an option (1-4):  4\n"
     ]
    },
    {
     "name": "stdout",
     "output_type": "stream",
     "text": [
      "Thank you for using the bank system. Goodbye!\n"
     ]
    }
   ],
   "source": [
    "total_balance = 0\n",
    "def bank_account_option():\n",
    "    print(\"1:Deposit money\")\n",
    "    print(\"2:Withdraw money\")\n",
    "    print(\"3:Check balance\")\n",
    "    print(\"4:Exit\")\n",
    "while True:\n",
    "    bank_account_option()\n",
    "    try:# Get user input\n",
    "        option = int(input(\"Please choose an option (1-4): \"))\n",
    "        if option == 1: # Deposit money\n",
    "            deposit_amount = float(input(\"Enter The deposit amount: \"))\n",
    "            if deposit_amount > 0:\n",
    "                total_balance += deposit_amount\n",
    "                print(f\"You are successfully Deposit Total ${deposit_amount} \")\n",
    "            else:\n",
    "                print(\"Invalid Input!Please enter a positive value\")\n",
    "        elif option == 2: #Withdraw money\n",
    "            withdraw_money = float(input(\"Enter The withdraw amount: \"))\n",
    "            if withdraw_money > 0:\n",
    "                if withdraw_money <= total_balance:\n",
    "                    total_balance -= withdraw_money \n",
    "                    print(f\"You are successfully withdrawn ${withdraw_money}\") \n",
    "                else:\n",
    "                    print(\"Insufficient balance! Try a smaller amount\")\n",
    "            else:\n",
    "                print(\"Invalid withdrawal amount! Please enter a positive value\")\n",
    "\n",
    "        elif option == 3:#Check balance\n",
    "           print(f\"Your Balance is ${total_balance}\")\n",
    "\n",
    "        elif option == 4:#Exit\n",
    "            print(\"Thank you for using the bank system. Goodbye!\")\n",
    "            break\n",
    "        else:\n",
    "            print(\"Invalid option! Please choose between 1 and 4.\")\n",
    "\n",
    "    except ValueError:\n",
    "        print(\"Invalid input! Please enter a valid number.\")"
   ]
  },
  {
   "cell_type": "code",
   "execution_count": 28,
   "id": "3b292446-9d2c-43ab-a16e-2c11f1f7bb5d",
   "metadata": {},
   "outputs": [
    {
     "name": "stdout",
     "output_type": "stream",
     "text": [
      "===================\n",
      "Welcome to the ATM!\n",
      "1: Check Balance\n",
      "2: Deposit Money\n",
      "3: Withdraw Money\n",
      "4: Exit\n"
     ]
    },
    {
     "name": "stdin",
     "output_type": "stream",
     "text": [
      "Enter your choice (1-4):  1\n"
     ]
    },
    {
     "name": "stdout",
     "output_type": "stream",
     "text": [
      "Your current balance is: 0\n",
      "===================\n",
      "Welcome to the ATM!\n",
      "1: Check Balance\n",
      "2: Deposit Money\n",
      "3: Withdraw Money\n",
      "4: Exit\n"
     ]
    },
    {
     "name": "stdin",
     "output_type": "stream",
     "text": [
      "Enter your choice (1-4):  2\n",
      "Enter the deposit amount:  8000\n"
     ]
    },
    {
     "name": "stdout",
     "output_type": "stream",
     "text": [
      "Your new balance is: 8000.0\n",
      "===================\n",
      "Welcome to the ATM!\n",
      "1: Check Balance\n",
      "2: Deposit Money\n",
      "3: Withdraw Money\n",
      "4: Exit\n"
     ]
    },
    {
     "name": "stdin",
     "output_type": "stream",
     "text": [
      "Enter your choice (1-4):  3\n",
      "Enter the withdrawal amount:  2000\n"
     ]
    },
    {
     "name": "stdout",
     "output_type": "stream",
     "text": [
      "Withdrawal successful! Your new balance is: 6000.0\n",
      "===================\n",
      "Welcome to the ATM!\n",
      "1: Check Balance\n",
      "2: Deposit Money\n",
      "3: Withdraw Money\n",
      "4: Exit\n"
     ]
    },
    {
     "name": "stdin",
     "output_type": "stream",
     "text": [
      "Enter your choice (1-4):  1\n"
     ]
    },
    {
     "name": "stdout",
     "output_type": "stream",
     "text": [
      "Your current balance is: 6000.0\n",
      "===================\n",
      "Welcome to the ATM!\n",
      "1: Check Balance\n",
      "2: Deposit Money\n",
      "3: Withdraw Money\n",
      "4: Exit\n"
     ]
    },
    {
     "name": "stdin",
     "output_type": "stream",
     "text": [
      "Enter your choice (1-4):  4\n"
     ]
    },
    {
     "name": "stdout",
     "output_type": "stream",
     "text": [
      "Successfully exited. Thank you for using the ATM!\n"
     ]
    }
   ],
   "source": [
    "balance = 0\n",
    "\n",
    "def option():\n",
    "    print(\"===================\")\n",
    "    print(\"Welcome to the ATM!\")\n",
    "    print(\"1: Check Balance\")\n",
    "    print(\"2: Deposit Money\")\n",
    "    print(\"3: Withdraw Money\")\n",
    "    print(\"4: Exit\")\n",
    "\n",
    "while True:\n",
    "    try:\n",
    "        option()  # Call the option function to display menu\n",
    "        user_choice = int(input(\"Enter your choice (1-4): \"))\n",
    "        \n",
    "        if user_choice == 1:\n",
    "            print(f\"Your current balance is: {balance}\")\n",
    "        \n",
    "        elif user_choice == 2:\n",
    "            deposit_money = float(input(\"Enter the deposit amount: \"))\n",
    "            if deposit_money > 0:\n",
    "                balance += deposit_money  # Add deposit to balance\n",
    "                print(f\"Your new balance is: {balance}\")\n",
    "            else:\n",
    "                print(\"Invalid deposit amount! Please enter a positive value.\")\n",
    "        \n",
    "        elif user_choice == 3:\n",
    "            withdraw_money = float(input(\"Enter the withdrawal amount: \"))\n",
    "            if withdraw_money > 0:\n",
    "                if withdraw_money <= balance:\n",
    "                    balance -= withdraw_money  # Subtract withdrawal from balance\n",
    "                    print(f\"Withdrawal successful! Your new balance is: {balance}\")\n",
    "                else:\n",
    "                    print(\"Insufficient balance! Please try again with a smaller amount.\")\n",
    "            else:\n",
    "                print(\"Invalid withdrawal amount! Please enter a positive value.\")\n",
    "        \n",
    "        elif user_choice == 4:\n",
    "            print(\"Successfully exited. Thank you for using the ATM!\")\n",
    "            break  # Exit the loop\n",
    "        \n",
    "        else:\n",
    "            print(\"Invalid choice! Please choose a valid option (1-4).\")\n",
    "    \n",
    "    except ValueError:\n",
    "        print(\"Invalid input! Please enter a valid number.\")"
   ]
  },
  {
   "cell_type": "code",
   "execution_count": null,
   "id": "b1c83b99-8e57-4633-9a23-af9c5225a166",
   "metadata": {},
   "outputs": [],
   "source": []
  }
 ],
 "metadata": {
  "kernelspec": {
   "display_name": "Python 3 (ipykernel)",
   "language": "python",
   "name": "python3"
  },
  "language_info": {
   "codemirror_mode": {
    "name": "ipython",
    "version": 3
   },
   "file_extension": ".py",
   "mimetype": "text/x-python",
   "name": "python",
   "nbconvert_exporter": "python",
   "pygments_lexer": "ipython3",
   "version": "3.13.0"
  }
 },
 "nbformat": 4,
 "nbformat_minor": 5
}
