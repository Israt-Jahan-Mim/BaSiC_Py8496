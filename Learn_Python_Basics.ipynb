{
 "cells": [
  {
   "cell_type": "markdown",
   "id": "8b62f8ce-10ee-40c5-babb-016807838174",
   "metadata": {},
   "source": [
    "# Keywords in Python  \n",
    "Keywords in Python are reserved words that can not be used as a variable name, function name, or any other identifier  \n",
    "\n",
    "**Keywords**  \n",
    "\n",
    "<span style=\"color:red\">__and__,\t__False__,\t__nonlocal__  \n",
    "__as__,\t__finally__,\t__not__  \n",
    "__assert__,\t__for__,\t__or__  \n",
    "__break__,\t__from__,\t__pass__  \n",
    "__class__,\t__global__,\t__raise__  \n",
    "__continue__,\t__if__,\t__return__  \n",
    "__def__,\t__import__,\t__True__  \n",
    "__del__,\t__is__,\t__try__  \n",
    "__elif__,\t__in__,\t__while__  \n",
    "__else__,\t__lambda__,\t__with__  \n",
    "__except__,\t__None__,\t__yield__  "
   ]
  },
  {
   "cell_type": "markdown",
   "id": "a54cc519-3400-4f8d-ae23-4f4e0158d1f9",
   "metadata": {},
   "source": [
    "# Python Data Types  \n",
    "\n",
    "x = \"Hello World\" # string  \n",
    "x = 50  # integer  \n",
    "x = 60.5  # float  \n",
    "x = 3j  # complex  \n",
    "x = [\"geeks\", \"for\", \"geeks\"]  # list   \n",
    "x = (\"geeks\", \"for\", \"geeks\")  # tuple  \n",
    "x = {\"name\": \"Suraj\", \"age\": 24} # dict  \n",
    "x = {\"geeks\", \"for\", \"geeks\"} # set  \n",
    "x = True  # bool  \n",
    "x = b\"Geeks\" # binary  "
   ]
  },
  {
   "cell_type": "markdown",
   "id": "78deb050-a09f-4de1-8a18-09716468c041",
   "metadata": {},
   "source": [
    "__a ** b means 9 raised to the power of 4 (i.e., 9 × 9 × 9 × 9)__"
   ]
  },
  {
   "cell_type": "code",
   "execution_count": 1,
   "id": "4a352e54-ae6d-49de-b364-66993df05b46",
   "metadata": {},
   "outputs": [
    {
     "name": "stdout",
     "output_type": "stream",
     "text": [
      "6561\n"
     ]
    }
   ],
   "source": [
    "a = 9\n",
    "b = 4\n",
    "p = a ** b \n",
    "print(p)"
   ]
  },
  {
   "cell_type": "code",
   "execution_count": 1,
   "id": "0a7d421a-34cd-4133-8a58-a425d928b96a",
   "metadata": {},
   "outputs": [
    {
     "name": "stdout",
     "output_type": "stream",
     "text": [
      "59049\n"
     ]
    }
   ],
   "source": [
    "a = 9\n",
    "b = 5\n",
    "c = a ** b\n",
    "print(c)"
   ]
  },
  {
   "cell_type": "code",
   "execution_count": 80,
   "id": "20128e12-59d4-4ce3-bc26-4ee064057082",
   "metadata": {},
   "outputs": [
    {
     "name": "stdout",
     "output_type": "stream",
     "text": [
      "1:Deposit money\n",
      "2:Withdraw money\n",
      "3:Check balance\n",
      "4:Exit\n"
     ]
    },
    {
     "name": "stdin",
     "output_type": "stream",
     "text": [
      "Please choose an option (1-4):  1\n",
      "Enter The deposit amount:  6000\n"
     ]
    },
    {
     "name": "stdout",
     "output_type": "stream",
     "text": [
      "You are successfully Deposit Total $6000.0 \n",
      "1:Deposit money\n",
      "2:Withdraw money\n",
      "3:Check balance\n",
      "4:Exit\n"
     ]
    },
    {
     "name": "stdin",
     "output_type": "stream",
     "text": [
      "Please choose an option (1-4):  2\n",
      "Enter The withdraw amount:  3000\n"
     ]
    },
    {
     "name": "stdout",
     "output_type": "stream",
     "text": [
      "You are successfully withdrawn $3000.0\n",
      "1:Deposit money\n",
      "2:Withdraw money\n",
      "3:Check balance\n",
      "4:Exit\n"
     ]
    },
    {
     "name": "stdin",
     "output_type": "stream",
     "text": [
      "Please choose an option (1-4):  3\n"
     ]
    },
    {
     "name": "stdout",
     "output_type": "stream",
     "text": [
      "Your Balance is $3000.0\n",
      "1:Deposit money\n",
      "2:Withdraw money\n",
      "3:Check balance\n",
      "4:Exit\n"
     ]
    },
    {
     "name": "stdin",
     "output_type": "stream",
     "text": [
      "Please choose an option (1-4):  4\n"
     ]
    },
    {
     "name": "stdout",
     "output_type": "stream",
     "text": [
      "Thank you for using the bank system. Goodbye!\n"
     ]
    }
   ],
   "source": [
    "total_balance = 0\n",
    "def bank_account_option():\n",
    "    print(\"1:Deposit money\")\n",
    "    print(\"2:Withdraw money\")\n",
    "    print(\"3:Check balance\")\n",
    "    print(\"4:Exit\")\n",
    "while True:\n",
    "    bank_account_option()\n",
    "    try:# Get user input\n",
    "        option = int(input(\"Please choose an option (1-4): \"))\n",
    "        if option == 1: # Deposit money\n",
    "            deposit_amount = float(input(\"Enter The deposit amount: \"))\n",
    "            if deposit_amount > 0:\n",
    "                total_balance += deposit_amount\n",
    "                print(f\"You are successfully Deposit Total ${deposit_amount} \")\n",
    "            else:\n",
    "                print(\"Invalid Input!Please enter a positive value\")\n",
    "        elif option == 2: #Withdraw money\n",
    "            withdraw_money = float(input(\"Enter The withdraw amount: \"))\n",
    "            if withdraw_money > 0:\n",
    "                if withdraw_money <= total_balance:\n",
    "                    total_balance -= withdraw_money \n",
    "                    print(f\"You are successfully withdrawn ${withdraw_money}\") \n",
    "                else:\n",
    "                    print(\"Insufficient balance! Try a smaller amount\")\n",
    "            else:\n",
    "                print(\"Invalid withdrawal amount! Please enter a positive value\")\n",
    "\n",
    "        elif option == 3:#Check balance\n",
    "           print(f\"Your Balance is ${total_balance}\")\n",
    "\n",
    "        elif option == 4:#Exit\n",
    "            print(\"Thank you for using the bank system. Goodbye!\")\n",
    "            break\n",
    "        else:\n",
    "            print(\"Invalid option! Please choose between 1 and 4.\")\n",
    "\n",
    "    except ValueError:\n",
    "        print(\"Invalid input! Please enter a valid number.\")"
   ]
  },
  {
   "cell_type": "code",
   "execution_count": 28,
   "id": "3b292446-9d2c-43ab-a16e-2c11f1f7bb5d",
   "metadata": {},
   "outputs": [
    {
     "name": "stdout",
     "output_type": "stream",
     "text": [
      "===================\n",
      "Welcome to the ATM!\n",
      "1: Check Balance\n",
      "2: Deposit Money\n",
      "3: Withdraw Money\n",
      "4: Exit\n"
     ]
    },
    {
     "name": "stdin",
     "output_type": "stream",
     "text": [
      "Enter your choice (1-4):  1\n"
     ]
    },
    {
     "name": "stdout",
     "output_type": "stream",
     "text": [
      "Your current balance is: 0\n",
      "===================\n",
      "Welcome to the ATM!\n",
      "1: Check Balance\n",
      "2: Deposit Money\n",
      "3: Withdraw Money\n",
      "4: Exit\n"
     ]
    },
    {
     "name": "stdin",
     "output_type": "stream",
     "text": [
      "Enter your choice (1-4):  2\n",
      "Enter the deposit amount:  8000\n"
     ]
    },
    {
     "name": "stdout",
     "output_type": "stream",
     "text": [
      "Your new balance is: 8000.0\n",
      "===================\n",
      "Welcome to the ATM!\n",
      "1: Check Balance\n",
      "2: Deposit Money\n",
      "3: Withdraw Money\n",
      "4: Exit\n"
     ]
    },
    {
     "name": "stdin",
     "output_type": "stream",
     "text": [
      "Enter your choice (1-4):  3\n",
      "Enter the withdrawal amount:  2000\n"
     ]
    },
    {
     "name": "stdout",
     "output_type": "stream",
     "text": [
      "Withdrawal successful! Your new balance is: 6000.0\n",
      "===================\n",
      "Welcome to the ATM!\n",
      "1: Check Balance\n",
      "2: Deposit Money\n",
      "3: Withdraw Money\n",
      "4: Exit\n"
     ]
    },
    {
     "name": "stdin",
     "output_type": "stream",
     "text": [
      "Enter your choice (1-4):  1\n"
     ]
    },
    {
     "name": "stdout",
     "output_type": "stream",
     "text": [
      "Your current balance is: 6000.0\n",
      "===================\n",
      "Welcome to the ATM!\n",
      "1: Check Balance\n",
      "2: Deposit Money\n",
      "3: Withdraw Money\n",
      "4: Exit\n"
     ]
    },
    {
     "name": "stdin",
     "output_type": "stream",
     "text": [
      "Enter your choice (1-4):  4\n"
     ]
    },
    {
     "name": "stdout",
     "output_type": "stream",
     "text": [
      "Successfully exited. Thank you for using the ATM!\n"
     ]
    }
   ],
   "source": [
    "balance = 0\n",
    "\n",
    "def option():\n",
    "    print(\"===================\")\n",
    "    print(\"Welcome to the ATM!\")\n",
    "    print(\"1: Check Balance\")\n",
    "    print(\"2: Deposit Money\")\n",
    "    print(\"3: Withdraw Money\")\n",
    "    print(\"4: Exit\")\n",
    "\n",
    "while True:\n",
    "    try:\n",
    "        option()  # Call the option function to display menu\n",
    "        user_choice = int(input(\"Enter your choice (1-4): \"))\n",
    "        \n",
    "        if user_choice == 1:\n",
    "            print(f\"Your current balance is: {balance}\")\n",
    "        \n",
    "        elif user_choice == 2:\n",
    "            deposit_money = float(input(\"Enter the deposit amount: \"))\n",
    "            if deposit_money > 0:\n",
    "                balance += deposit_money  # Add deposit to balance\n",
    "                print(f\"Your new balance is: {balance}\")\n",
    "            else:\n",
    "                print(\"Invalid deposit amount! Please enter a positive value.\")\n",
    "        \n",
    "        elif user_choice == 3:\n",
    "            withdraw_money = float(input(\"Enter the withdrawal amount: \"))\n",
    "            if withdraw_money > 0:\n",
    "                if withdraw_money <= balance:\n",
    "                    balance -= withdraw_money  # Subtract withdrawal from balance\n",
    "                    print(f\"Withdrawal successful! Your new balance is: {balance}\")\n",
    "                else:\n",
    "                    print(\"Insufficient balance! Please try again with a smaller amount.\")\n",
    "            else:\n",
    "                print(\"Invalid withdrawal amount! Please enter a positive value.\")\n",
    "        \n",
    "        elif user_choice == 4:\n",
    "            print(\"Successfully exited. Thank you for using the ATM!\")\n",
    "            break  # Exit the loop\n",
    "        \n",
    "        else:\n",
    "            print(\"Invalid choice! Please choose a valid option (1-4).\")\n",
    "    \n",
    "    except ValueError:\n",
    "        print(\"Invalid input! Please enter a valid number.\")"
   ]
  },
  {
   "cell_type": "markdown",
   "id": "e955293a-215d-433a-8c97-1c45e23f79b1",
   "metadata": {},
   "source": [
    "# Problem: ATM Withdrawal System with Limits  \n",
    "\n",
    "You are building an ATM system that allows users to withdraw money, but there are certain conditions for withdrawal. The user can withdraw money multiple times until one of the following happens:  \n",
    "- The user has exhausted all attempts (maximum 5 attempts).  \n",
    "- The user has withdrawn the maximum allowable withdrawal amount.  \n",
    "- The user chooses to exit early.  \n",
    "In each iteration, if the user tries to withdraw more than the available balance or if the withdrawal exceeds a daily limit, the system should skip to the next iteration (using continue). If the user tries to withdraw more money than the maximum allowed for that day (e.g., $5000), the program should stop and exit (using break).  \n",
    "\n",
    "**You need to :**  \n",
    "\n",
    "Use a while loop to allow the user multiple attempts.  \n",
    "Use a for loop to allow the user a set number of withdrawal attempts (maximum 5).  \n",
    "Use continue to skip invalid withdrawal attempts.  \n",
    "Use break to stop the process if the user reaches the daily withdrawal limit.  \n",
    "\n",
    "**Requirements :**  \n",
    "- Total balance is set to $10000.  \n",
    "- Each withdrawal cannot  exceed  $2000  per  attempt.  \n",
    "- The maximum total withdrawal in a day is $5000.  \n",
    "- Allow the user 5 attempts to withdraw money.  "
   ]
  },
  {
   "cell_type": "code",
   "execution_count": 1,
   "id": "944d04ae-a3bb-48de-ade0-1ff7e0c56d35",
   "metadata": {},
   "outputs": [
    {
     "name": "stdout",
     "output_type": "stream",
     "text": [
      "Welcome to ATM Booth\n",
      "You can withdraw up to $2000 per attempt. Daily withdrawal limit is $5000.\n"
     ]
    },
    {
     "name": "stdin",
     "output_type": "stream",
     "text": [
      "Enter the withdrawal amount:  7000\n"
     ]
    },
    {
     "name": "stdout",
     "output_type": "stream",
     "text": [
      "You can withdraw up to $2000 per attempt ! Please Try again\n"
     ]
    },
    {
     "name": "stdin",
     "output_type": "stream",
     "text": [
      "Enter the withdrawal amount:  2000\n"
     ]
    },
    {
     "name": "stdout",
     "output_type": "stream",
     "text": [
      "You have successfully withdrawn $2000.\n",
      "Remaining balance: $148000\n",
      "Total withdrawn today: $2000\n"
     ]
    },
    {
     "name": "stdin",
     "output_type": "stream",
     "text": [
      "Enter the withdrawal amount:  2000\n"
     ]
    },
    {
     "name": "stdout",
     "output_type": "stream",
     "text": [
      "You have successfully withdrawn $2000.\n",
      "Remaining balance: $146000\n",
      "Total withdrawn today: $4000\n"
     ]
    },
    {
     "name": "stdin",
     "output_type": "stream",
     "text": [
      "Enter the withdrawal amount:  5000\n"
     ]
    },
    {
     "name": "stdout",
     "output_type": "stream",
     "text": [
      "You can withdraw up to $2000 per attempt ! Please Try again\n"
     ]
    },
    {
     "name": "stdin",
     "output_type": "stream",
     "text": [
      "Enter the withdrawal amount:  1000\n"
     ]
    },
    {
     "name": "stdout",
     "output_type": "stream",
     "text": [
      "You have successfully withdrawn $1000.\n",
      "Remaining balance: $145000\n",
      "Total withdrawn today: $5000\n",
      "Thank you for using the ATM. Goodbye!\n"
     ]
    }
   ],
   "source": [
    "def atm_withdrawal():\n",
    "    total_balance = 150000\n",
    "    daily_limit = 5000\n",
    "    max_withdrawal_per_attempt = 2000\n",
    "    total_withdrawn = 0\n",
    "    attempts = 0\n",
    "\n",
    "    print(\"Welcome to ATM Booth\")\n",
    "    print(\"You can withdraw up to $2000 per attempt. Daily withdrawal limit is $5000.\")\n",
    "\n",
    "    while attempts < 5 :\n",
    "        try:\n",
    "            withdrawal_amount = int(input(\"Enter the withdrawal amount: \"))\n",
    "            attempts += 1\n",
    "\n",
    "            if withdrawal_amount > total_balance :\n",
    "                print(f\"You amount is greater then total balance\")\n",
    "                continue\n",
    "                \n",
    "            if withdrawal_amount > max_withdrawal_per_attempt :\n",
    "                print(f\"You can withdraw up to ${max_withdrawal_per_attempt} per attempt ! Please Try again\")\n",
    "                continue\n",
    "\n",
    "            if total_withdrawn + withdrawal_amount > daily_limit :\n",
    "                print(f\"Your Daily Limit for withdrawal ${daily_limit}!!!!\")\n",
    "                break\n",
    "\n",
    "            total_balance -= withdrawal_amount\n",
    "            total_withdrawn += withdrawal_amount\n",
    "            print(f\"You have successfully withdrawn ${withdrawal_amount}.\")\n",
    "            print(f\"Remaining balance: ${total_balance}\")\n",
    "            print(f\"Total withdrawn today: ${total_withdrawn}\")\n",
    "        \n",
    "        except ValueError:\n",
    "            print(\"Invalid input! Please enter a valid number.\")\n",
    "\n",
    "    print(\"Thank you for using the ATM. Goodbye!\")\n",
    "\n",
    "\n",
    "atm_withdrawal()\n",
    "        \n",
    "        \n",
    "    "
   ]
  },
  {
   "cell_type": "markdown",
   "id": "49479936-47df-44d4-aac4-ac799416ba3a",
   "metadata": {},
   "source": [
    "# ‘in’ and ‘is’ Keyword"
   ]
  },
  {
   "cell_type": "code",
   "execution_count": 2,
   "id": "e31e4ad7-b53e-4f24-97ec-950d0d5c002b",
   "metadata": {},
   "outputs": [
    {
     "name": "stdout",
     "output_type": "stream",
     "text": [
      "True\n",
      "s is part of israt\n"
     ]
    }
   ],
   "source": [
    "# example 1\n",
    "print(3 in [1,2,3])\n",
    "\n",
    "# example 2\n",
    "if 's' in 'israt':\n",
    "    print(\"s is part of israt\")\n",
    "else:\n",
    "    print(\"s is not part of israt\")"
   ]
  },
  {
   "cell_type": "code",
   "execution_count": 4,
   "id": "a22b880e-aefa-4e36-8778-acd826247237",
   "metadata": {},
   "outputs": [
    {
     "name": "stdout",
     "output_type": "stream",
     "text": [
      "True\n",
      "True\n",
      "False\n"
     ]
    },
    {
     "name": "stderr",
     "output_type": "stream",
     "text": [
      "<>:2: SyntaxWarning: \"is\" with 'int' literal. Did you mean \"==\"?\n",
      "<>:2: SyntaxWarning: \"is\" with 'int' literal. Did you mean \"==\"?\n",
      "C:\\Users\\ISRAT JAHAN\\AppData\\Local\\Temp\\ipykernel_11596\\3689272054.py:2: SyntaxWarning: \"is\" with 'int' literal. Did you mean \"==\"?\n",
      "  print(2 is 2)\n"
     ]
    }
   ],
   "source": [
    "# example 1\n",
    "print(2 is 2)\n",
    "\n",
    "# example 2\n",
    "a = [1, 2, 3]\n",
    "b = a\n",
    "c = [1, 2, 3]\n",
    "\n",
    "# True: a and b refer to the same object\n",
    "print(a is b)  \n",
    "\n",
    "# False: a and c have same value but are different objects\n",
    "print(a is c)"
   ]
  },
  {
   "cell_type": "markdown",
   "id": "8ad4bac2-2d1a-4d1a-add9-c55423874328",
   "metadata": {},
   "source": [
    "# Structure Keywords : def, class, with, as, pass, lambda"
   ]
  },
  {
   "cell_type": "code",
   "execution_count": 5,
   "id": "89f60f0d-5ca4-4ca6-b811-a786d598224c",
   "metadata": {},
   "outputs": [
    {
     "name": "stdout",
     "output_type": "stream",
     "text": [
      "Israt\n"
     ]
    }
   ],
   "source": [
    "def fun():\n",
    "    print(\"Israt\")\n",
    "\n",
    "\n",
    "fun()"
   ]
  },
  {
   "cell_type": "code",
   "execution_count": 6,
   "id": "aab1c619-96cf-4d79-b9db-d822410fb3cc",
   "metadata": {},
   "outputs": [],
   "source": [
    "class Dog:\n",
    "    attr1 = \"mammal\"\n",
    "    attr2 = \"dog\""
   ]
  },
  {
   "cell_type": "code",
   "execution_count": null,
   "id": "8b36820d-f9d3-40c9-8ed4-8b023ffa7f0e",
   "metadata": {},
   "outputs": [],
   "source": []
  }
 ],
 "metadata": {
  "kernelspec": {
   "display_name": "Python 3 (ipykernel)",
   "language": "python",
   "name": "python3"
  },
  "language_info": {
   "codemirror_mode": {
    "name": "ipython",
    "version": 3
   },
   "file_extension": ".py",
   "mimetype": "text/x-python",
   "name": "python",
   "nbconvert_exporter": "python",
   "pygments_lexer": "ipython3",
   "version": "3.13.0"
  }
 },
 "nbformat": 4,
 "nbformat_minor": 5
}
